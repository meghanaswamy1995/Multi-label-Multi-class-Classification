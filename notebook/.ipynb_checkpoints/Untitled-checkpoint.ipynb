{
 "cells": [
  {
   "cell_type": "code",
   "execution_count": 1,
   "id": "f1ff6c86",
   "metadata": {},
   "outputs": [],
   "source": [
    "import pandas as pd\n",
    "import numpy as np\n",
    "import operator\n",
    "import statistics\n",
    "import matplotlib.pyplot as plt\n",
    "from beautifultable import BeautifulTable\n",
    "from sklearn import preprocessing\n",
    "from sklearn.model_selection import train_test_split, GridSearchCV, KFold\n",
    "from sklearn.svm import SVC, LinearSVC\n",
    "from sklearn.multiclass import OneVsRestClassifier\n",
    "from sklearn.cluster import KMeans\n",
    "from sklearn.metrics import hamming_loss, silhouette_score, accuracy_score\n",
    "from imblearn.over_sampling import SMOTE\n",
    "from scipy.cluster import hierarchy\n",
    "import warnings\n",
    "warnings.filterwarnings(\"ignore\")"
   ]
  },
  {
   "cell_type": "code",
   "execution_count": 2,
   "id": "ce1778de",
   "metadata": {},
   "outputs": [],
   "source": [
    "def printDatainTable(tableHeaders, tableData):\n",
    "    table = BeautifulTable(max_width=100)\n",
    "    table.set_style(BeautifulTable.STYLE_SEPARATED)\n",
    "    if len(tableHeaders)!=0:\n",
    "        table.column_headers = tableHeaders\n",
    "    for i in range(0, len(tableData)):\n",
    "        table.append_row(tableData[i])\n",
    "    print(table)"
   ]
  },
  {
   "cell_type": "code",
   "execution_count": 3,
   "id": "59a9e6dd",
   "metadata": {},
   "outputs": [],
   "source": [
    "datasetURL = '../data/Frogs_MFCCs.csv'\n",
    "\n",
    "featureNames = []\n",
    "for i in range(1, 23):\n",
    "    if i<10:\n",
    "        featureName = 'MFCCs_ ' + str(i)\n",
    "    else:\n",
    "        featureName = 'MFCCs_' + str(i)\n",
    "    featureNames.append(featureName)\n",
    "        \n",
    "labels = ['Family', 'Genus', 'Species']\n",
    "familyClasses = set()\n",
    "genusClasses = set()\n",
    "speciesClasses = set()"
   ]
  },
  {
   "cell_type": "code",
   "execution_count": 4,
   "id": "d3e809f7",
   "metadata": {},
   "outputs": [
    {
     "name": "stdout",
     "output_type": "stream",
     "text": [
      "Total observations: 7195\n",
      "Total features: 22\n",
      "----------------------------------------------------------------------------\n",
      "Total observations in training data: 5036\n",
      "First 5 observations in training data:\n",
      "      MFCCs_ 1  MFCCs_ 2  MFCCs_ 3  MFCCs_ 4  MFCCs_ 5  MFCCs_ 6  MFCCs_ 7  \\\n",
      "5090       1.0  0.643840  0.756015  0.367961 -0.062151  0.137872 -0.054692   \n",
      "3875       1.0  0.334182  0.224923  0.568410  0.203229  0.002437 -0.114655   \n",
      "4832       1.0  0.483937  0.176483  0.548972  0.467088  0.069275 -0.188312   \n",
      "5429       1.0  0.548689  0.408140  0.301371  0.034551  0.184683  0.024835   \n",
      "1970       1.0  0.434611  0.261690  0.563413  0.115015 -0.000381 -0.068449   \n",
      "\n",
      "      MFCCs_ 8  MFCCs_ 9  MFCCs_10  ...  MFCCs_17  MFCCs_18  MFCCs_19  \\\n",
      "5090  0.136944  0.125032 -0.324610  ... -0.114412  0.023686  0.027296   \n",
      "3875  0.036899  0.263353  0.026215  ...  0.283905  0.028992 -0.121575   \n",
      "4832 -0.010904  0.372744  0.314837  ... -0.062161  0.195066  0.146565   \n",
      "5429  0.031473  0.161780 -0.072658  ... -0.081110 -0.001184  0.020028   \n",
      "1970  0.168177  0.306342 -0.022322  ...  0.197073  0.006313 -0.091523   \n",
      "\n",
      "      MFCCs_20  MFCCs_21  MFCCs_22           Family          Genus  \\\n",
      "5090  0.176871  0.121233 -0.211181          Hylidae      Hypsiboas   \n",
      "3875 -0.149529 -0.047229  0.194840  Leptodactylidae      Adenomera   \n",
      "4832 -0.069770 -0.225034 -0.031868          Hylidae  Dendropsophus   \n",
      "5429 -0.005881  0.074007 -0.027152          Hylidae      Hypsiboas   \n",
      "1970 -0.100702  0.007738  0.107187  Leptodactylidae      Adenomera   \n",
      "\n",
      "                     Species  RecordID  \n",
      "5090    HypsiboasCinerascens        36  \n",
      "3875  AdenomeraHylaedactylus        22  \n",
      "4832              HylaMinuta        28  \n",
      "5429    HypsiboasCinerascens        38  \n",
      "1970  AdenomeraHylaedactylus        17  \n",
      "\n",
      "[5 rows x 26 columns]\n",
      "----------------------------------------------------------------------------\n",
      "Total observations in testing data: 2159\n",
      "First 5 observations in testing data:\n",
      "      MFCCs_ 1  MFCCs_ 2  MFCCs_ 3  MFCCs_ 4  MFCCs_ 5  MFCCs_ 6  MFCCs_ 7  \\\n",
      "1277       1.0  0.423135  0.458620  0.537225  0.051534  0.100427 -0.040252   \n",
      "919        1.0  0.299616 -0.116586  0.260703  0.397433  0.171079 -0.192409   \n",
      "1155       1.0  0.460586  0.326928  0.375406  0.107861  0.007153  0.105359   \n",
      "3317       1.0  0.074457  0.062113  0.568427  0.243091  0.111485 -0.103657   \n",
      "2591       1.0  0.327444  0.387062  0.581563  0.128911 -0.008718 -0.044793   \n",
      "\n",
      "      MFCCs_ 8  MFCCs_ 9  MFCCs_10  ...  MFCCs_17  MFCCs_18  MFCCs_19  \\\n",
      "1277 -0.018673  0.302575  0.060618  ...  0.172836 -0.086049 -0.094760   \n",
      "919  -0.135862  0.130638  0.207510  ... -0.144129 -0.039158  0.063336   \n",
      "1155  0.020043 -0.092422  0.039211  ... -0.184220  0.088059  0.047840   \n",
      "3317 -0.019694  0.242206  0.117756  ...  0.254261  0.184416 -0.018337   \n",
      "2591  0.095029  0.255689 -0.047842  ...  0.190761 -0.081267 -0.126349   \n",
      "\n",
      "      MFCCs_20  MFCCs_21  MFCCs_22           Family      Genus  \\\n",
      "1277 -0.088741  0.087531  0.185082  Leptodactylidae  Adenomera   \n",
      "919   0.000190 -0.068545 -0.032798    Dendrobatidae   Ameerega   \n",
      "1155 -0.102025 -0.042204  0.026940    Dendrobatidae   Ameerega   \n",
      "3317 -0.204144 -0.114954  0.207814  Leptodactylidae  Adenomera   \n",
      "2591 -0.063904  0.187758  0.224913  Leptodactylidae  Adenomera   \n",
      "\n",
      "                     Species  RecordID  \n",
      "1277  AdenomeraHylaedactylus        14  \n",
      "919       Ameeregatrivittata        11  \n",
      "1155      Ameeregatrivittata        13  \n",
      "3317  AdenomeraHylaedactylus        21  \n",
      "2591  AdenomeraHylaedactylus        19  \n",
      "\n",
      "[5 rows x 26 columns]\n"
     ]
    }
   ],
   "source": [
    "data = pd.read_csv(datasetURL)\n",
    "dataX = data[featureNames]\n",
    "dataY = data[labels]\n",
    "print('Total observations:', data.shape[0])\n",
    "print('Total features:', len(featureNames))\n",
    "print('----------------------------------------------------------------------------')\n",
    "\n",
    "trainData, testData = train_test_split(data, test_size=0.3)\n",
    "\n",
    "trainDataX = trainData[featureNames]\n",
    "trainDataY = trainData[labels]\n",
    "print('Total observations in training data:', trainDataX.shape[0])\n",
    "print('First 5 observations in training data:')\n",
    "print(trainData.head(5))\n",
    "print('----------------------------------------------------------------------------')\n",
    "\n",
    "testDataX = testData[featureNames]\n",
    "testDataY = testData[labels]\n",
    "print('Total observations in testing data:', testDataX.shape[0])\n",
    "print('First 5 observations in testing data:')\n",
    "print(testData.head(5))"
   ]
  },
  {
   "cell_type": "code",
   "execution_count": 5,
   "id": "e0d9a493",
   "metadata": {
    "scrolled": true
   },
   "outputs": [
    {
     "name": "stdout",
     "output_type": "stream",
     "text": [
      "Classes in Family: Bufonidae, Hylidae, Leptodactylidae, Dendrobatidae\n",
      "------------------------------------------------------------------------------------------------------------\n",
      "Classes in Genus: Dendropsophus, Osteocephalus, Scinax, Ameerega, Hypsiboas, Adenomera, Leptodactylus, Rhinella\n",
      "------------------------------------------------------------------------------------------------------------\n",
      "Classes in Species: LeptodactylusFuscus, Ameeregatrivittata, AdenomeraHylaedactylus, HypsiboasCordobae, OsteocephalusOophagus, AdenomeraAndre, HylaMinuta, HypsiboasCinerascens, Rhinellagranulosa, ScinaxRuber\n"
     ]
    }
   ],
   "source": [
    "for i in range(0, len(data)):\n",
    "    familyClass = data['Family'][i]\n",
    "    familyClasses.add(familyClass)\n",
    "    \n",
    "    genusClass = data['Genus'][i]\n",
    "    genusClasses.add(genusClass)\n",
    "    \n",
    "    speciesClass = data['Species'][i]\n",
    "    speciesClasses.add(speciesClass)\n",
    "\n",
    "print('Classes in Family:', ', '.join(familyClasses))\n",
    "print('------------------------------------------------------------------------------------------------------------')\n",
    "print('Classes in Genus:', ', '.join(genusClasses))\n",
    "print('------------------------------------------------------------------------------------------------------------')\n",
    "print('Classes in Species:', ', '.join(speciesClasses))"
   ]
  },
  {
   "cell_type": "markdown",
   "id": "43d3006a",
   "metadata": {},
   "source": [
    "# Exact Match Loss and Hamming Loss.\n",
    "Exact Match Score: \n",
    "\n",
    "In multilabel classification, Exact Match Score defines the subset accuracy, i.e. the number of observations for which the actual set of labels correspond to the predicted set of labels for that obervation. In other words, if the entire set of predicted labels for a sample strictly match the actual set of labels, then the subset accuracy will be 1.0, otherwise it is 0.0.\n",
    "\n",
    "Hamming Loss: \n",
    "\n",
    "Hamming Loss computes the average hamming distance between two set of samples. It is the fraction of observations for which labels are not predicted properly. In other words, if an observation has 3 labels, and 2 out of these 3 labels are not predicted correctly, then the hamming distance is 2."
   ]
  },
  {
   "cell_type": "markdown",
   "id": "f6c2d73b",
   "metadata": {},
   "source": [
    "# SVM Classifier for each label without standardized features."
   ]
  },
  {
   "cell_type": "code",
   "execution_count": 6,
   "id": "0cd71f9e",
   "metadata": {},
   "outputs": [],
   "source": [
    "CRange = np.logspace(-1, 4, 20)\n",
    "gammaRange = np.linspace(0.1, 2, 20)\n",
    "\n",
    "params = {'estimator__gamma':gammaRange, 'estimator__C':CRange}\n",
    "svmModel = OneVsRestClassifier(SVC(kernel='rbf', tol=0.1))\n",
    "gridModel = GridSearchCV(svmModel, param_grid=params, cv=KFold(10))"
   ]
  },
  {
   "cell_type": "code",
   "execution_count": 7,
   "id": "8535784b",
   "metadata": {},
   "outputs": [
    {
     "name": "stdout",
     "output_type": "stream",
     "text": [
      "Label: Family\n",
      "---------------------------------------\n",
      "Best SVM Penalty: 3.793\n",
      "Best Width of Gaussian Kernel: 0.5\n",
      "Exact Match Loss: 0.008\n",
      "Hamming Loss: 0.008\n",
      "---------------------------------------\n"
     ]
    }
   ],
   "source": [
    "print('Label: Family')\n",
    "print('---------------------------------------')\n",
    "familySVMModel = gridModel.fit(trainDataX, trainDataY['Family'])\n",
    "\n",
    "familyBestParams = familySVMModel.best_params_\n",
    "familyBestC = familyBestParams['estimator__C']\n",
    "familyBestC = round(familyBestC, 3)\n",
    "familyBestGamma = familyBestParams['estimator__gamma']\n",
    "familyBestGamma = round(familyBestGamma, 3)\n",
    "familyBestWidth = round(1/np.sqrt(2*familyBestGamma), 3)\n",
    "print('Best SVM Penalty:', familyBestC)\n",
    "print('Best Width of Gaussian Kernel:', familyBestWidth)\n",
    "\n",
    "predictedTestFamily = familySVMModel.predict(testDataX)\n",
    "exactFamilyScore = accuracy_score(predictedTestFamily, testDataY['Family'])\n",
    "exactFamilyLoss = round(1-exactFamilyScore, 3)\n",
    "\n",
    "familyHammingLoss = hamming_loss(predictedTestFamily, testDataY['Family'])\n",
    "familyHammingLoss = round(familyHammingLoss, 3)\n",
    "\n",
    "print('Exact Match Loss:', exactFamilyLoss)\n",
    "print('Hamming Loss:', familyHammingLoss)\n",
    "print('---------------------------------------')"
   ]
  },
  {
   "cell_type": "code",
   "execution_count": 8,
   "id": "8723886c",
   "metadata": {},
   "outputs": [
    {
     "name": "stdout",
     "output_type": "stream",
     "text": [
      "Label: Genus\n",
      "---------------------------------------\n",
      "Best SVM Penalty: 3.793\n",
      "Best Width of Gaussian Kernel: 0.645\n",
      "Exact Match Loss: 0.012\n",
      "Hamming Loss: 0.012\n"
     ]
    }
   ],
   "source": [
    "print('Label: Genus')\n",
    "print('---------------------------------------')\n",
    "genusSVMModel = gridModel.fit(trainDataX, trainDataY['Genus'])\n",
    "\n",
    "genusBestParams = genusSVMModel.best_params_\n",
    "genusBestC = genusBestParams['estimator__C']\n",
    "genusBestC = round(genusBestC, 3)\n",
    "genusBestGamma = genusBestParams['estimator__gamma']\n",
    "genusBestGamma = round(genusBestGamma, 3)\n",
    "genusBestWidth = round(1/np.sqrt(2*genusBestGamma), 3)\n",
    "print('Best SVM Penalty:', genusBestC)\n",
    "print('Best Width of Gaussian Kernel:', genusBestWidth)\n",
    "\n",
    "predictedTestGenus = genusSVMModel.predict(testDataX)\n",
    "exactGenusScore = accuracy_score(predictedTestGenus, testDataY['Genus'])\n",
    "exactGenusLoss = round(1-exactGenusScore, 3)\n",
    "\n",
    "genusHammingLoss = hamming_loss(predictedTestGenus, testDataY['Genus'])\n",
    "genusHammingLoss = round(genusHammingLoss, 3)\n",
    "\n",
    "print('Exact Match Loss:', exactGenusLoss)\n",
    "print('Hamming Loss:', genusHammingLoss)"
   ]
  },
  {
   "cell_type": "code",
   "execution_count": 9,
   "id": "ba16e24c",
   "metadata": {},
   "outputs": [
    {
     "name": "stdout",
     "output_type": "stream",
     "text": [
      "Label: Species\n",
      "---------------------------------------\n",
      "Best SVM Penalty: 12.743\n",
      "Best Width of Gaussian Kernel: 0.707\n",
      "Exact Match Loss: 0.011\n",
      "Hamming Loss: 0.011\n"
     ]
    }
   ],
   "source": [
    "print('Label: Species')\n",
    "print('---------------------------------------')\n",
    "speciesSVMModel = gridModel.fit(trainDataX, trainDataY['Species'])\n",
    "\n",
    "speciesBestParams = speciesSVMModel.best_params_\n",
    "speciesBestC = speciesBestParams['estimator__C']\n",
    "speciesBestC = round(speciesBestC, 3)\n",
    "speciesBestGamma = speciesBestParams['estimator__gamma']\n",
    "speciesBestGamma = round(speciesBestGamma, 3)\n",
    "speciesBestWidth = round(1/np.sqrt(2*speciesBestGamma), 3)\n",
    "print('Best SVM Penalty:', speciesBestC)\n",
    "print('Best Width of Gaussian Kernel:', speciesBestWidth)\n",
    "\n",
    "predictedTestSpecies = speciesSVMModel.predict(testDataX)\n",
    "exactSpeciesScore = accuracy_score(predictedTestSpecies, testDataY['Species'])\n",
    "exactSpeciesLoss = round(1-exactSpeciesScore, 3)\n",
    "\n",
    "speciesHammingLoss = hamming_loss(predictedTestSpecies, testDataY['Species'])\n",
    "speciesHammingLoss = round(speciesHammingLoss, 3)\n",
    "\n",
    "print('Exact Match Loss:', exactSpeciesLoss)\n",
    "print('Hamming Loss:', speciesHammingLoss)"
   ]
  },
  {
   "cell_type": "code",
   "execution_count": 10,
   "id": "d57072b3",
   "metadata": {},
   "outputs": [
    {
     "name": "stdout",
     "output_type": "stream",
     "text": [
      "---------------------------------------\n",
      "Average Exact Match Loss: 0.014\n",
      "Average Hamming Loss: 0.01\n"
     ]
    }
   ],
   "source": [
    "svmAvgHammingLoss = (familyHammingLoss + genusHammingLoss + speciesHammingLoss)/3\n",
    "svmAvgHammingLoss = round(svmAvgHammingLoss, 3)\n",
    "\n",
    "cnt = 0\n",
    "for i in range(0, len(testDataY)):\n",
    "    if (testDataY['Family'].ravel()[i]==predictedTestFamily[i] and \n",
    "        testDataY['Genus'].ravel()[i]==predictedTestGenus[i] and \n",
    "        testDataY['Species'].ravel()[i]==predictedTestSpecies[i]):\n",
    "        cnt += 1\n",
    "svmAvgExactScore = float(cnt)/len(testDataY)\n",
    "svmAvgExactLoss = round(1-svmAvgExactScore, 3)\n",
    "\n",
    "print('---------------------------------------')\n",
    "print('Average Exact Match Loss:', svmAvgExactLoss)\n",
    "print('Average Hamming Loss:', svmAvgHammingLoss)"
   ]
  },
  {
   "cell_type": "markdown",
   "id": "5d6cfa60",
   "metadata": {},
   "source": [
    "# SVM Classifier for each label with standardized features."
   ]
  },
  {
   "cell_type": "code",
   "execution_count": 11,
   "id": "0c8e4471",
   "metadata": {},
   "outputs": [],
   "source": [
    "scaler = preprocessing.StandardScaler()\n",
    "scaler = scaler.fit(dataX)\n",
    "scaledTrainDataX = scaler.transform(trainDataX)\n",
    "scaledTestDataX = scaler.transform(testDataX)"
   ]
  },
  {
   "cell_type": "code",
   "execution_count": 12,
   "id": "d1013fd8",
   "metadata": {},
   "outputs": [
    {
     "name": "stdout",
     "output_type": "stream",
     "text": [
      "Label: Family\n",
      "---------------------------------------\n",
      "Best SVM Penalty: 3.793\n",
      "Best Width of Gaussian Kernel: 2.236\n",
      "Exact Match Loss: 0.01\n",
      "Hamming Loss: 0.01\n",
      "---------------------------------------\n"
     ]
    }
   ],
   "source": [
    "print('Label: Family')\n",
    "print('---------------------------------------')\n",
    "scaledFamilySVMModel = gridModel.fit(scaledTrainDataX, trainDataY['Family'])\n",
    "\n",
    "scaledFamilyBestParams = scaledFamilySVMModel.best_params_\n",
    "scaledFamilyBestC = scaledFamilyBestParams['estimator__C']\n",
    "scaledFamilyBestC = round(scaledFamilyBestC, 3)\n",
    "scaledFamilyBestGamma = scaledFamilyBestParams['estimator__gamma']\n",
    "scaledFamilyBestGamma = round(scaledFamilyBestGamma, 3)\n",
    "scaledFamilyBestWidth = round(1/np.sqrt(2*scaledFamilyBestGamma), 3)\n",
    "print('Best SVM Penalty:', scaledFamilyBestC)\n",
    "print('Best Width of Gaussian Kernel:', scaledFamilyBestWidth)\n",
    "\n",
    "scaledPredictedTestFamily = scaledFamilySVMModel.predict(scaledTestDataX)\n",
    "scaledExactFamilyScore = accuracy_score(scaledPredictedTestFamily, testDataY['Family'])\n",
    "scaledExactFamilyLoss = round(1-scaledExactFamilyScore, 3)\n",
    "\n",
    "scaledFamilyHammingLoss = hamming_loss(scaledPredictedTestFamily, testDataY['Family'])\n",
    "scaledFamilyHammingLoss = round(scaledFamilyHammingLoss, 3)\n",
    "\n",
    "print('Exact Match Loss:', scaledExactFamilyLoss)\n",
    "print('Hamming Loss:', scaledFamilyHammingLoss)\n",
    "print('---------------------------------------')"
   ]
  },
  {
   "cell_type": "code",
   "execution_count": 13,
   "id": "25d6c3d4",
   "metadata": {},
   "outputs": [
    {
     "name": "stdout",
     "output_type": "stream",
     "text": [
      "Label: Genus\n",
      "---------------------------------------\n",
      "Best SVM Penalty: 12.743\n",
      "Best Width of Gaussian Kernel: 2.236\n",
      "Exact Match Loss: 0.012\n",
      "Hamming Loss: 0.012\n",
      "---------------------------------------\n"
     ]
    }
   ],
   "source": [
    "print('Label: Genus')\n",
    "print('---------------------------------------')\n",
    "scaledGenusSVMModel = gridModel.fit(scaledTrainDataX, trainDataY['Genus'])\n",
    "\n",
    "scaledGenusBestParams = scaledGenusSVMModel.best_params_\n",
    "scaledGenusBestC = scaledGenusBestParams['estimator__C']\n",
    "scaledGenusBestC = round(scaledGenusBestC, 3)\n",
    "scaledGenusBestGamma = scaledGenusBestParams['estimator__gamma']\n",
    "scaledGenusBestGamma = round(scaledGenusBestGamma, 3)\n",
    "scaledGenusBestWidth = round(1/np.sqrt(2*scaledGenusBestGamma), 3)\n",
    "print('Best SVM Penalty:', scaledGenusBestC)\n",
    "print('Best Width of Gaussian Kernel:', scaledGenusBestWidth)\n",
    "\n",
    "scaledPredictedTestGenus = scaledGenusSVMModel.predict(scaledTestDataX)\n",
    "scaledExactGenusScore = accuracy_score(scaledPredictedTestGenus, testDataY['Genus'])\n",
    "scaledExactGenusLoss = round(1-scaledExactGenusScore, 3)\n",
    "\n",
    "scaledGenusHammingLoss = hamming_loss(scaledPredictedTestGenus, testDataY['Genus'])\n",
    "scaledGenusHammingLoss = round(scaledGenusHammingLoss, 3)\n",
    "\n",
    "print('Exact Match Loss:', scaledExactGenusLoss)\n",
    "print('Hamming Loss:', scaledGenusHammingLoss)\n",
    "print('---------------------------------------')"
   ]
  },
  {
   "cell_type": "code",
   "execution_count": 14,
   "id": "b49dc9cf",
   "metadata": {},
   "outputs": [
    {
     "name": "stdout",
     "output_type": "stream",
     "text": [
      "Label: Species\n",
      "---------------------------------------\n",
      "Best SVM Penalty: 3.793\n",
      "Best Width of Gaussian Kernel: 2.236\n",
      "Exact Match Loss: 0.015\n",
      "Hamming Loss: 0.015\n"
     ]
    }
   ],
   "source": [
    "print('Label: Species')\n",
    "print('---------------------------------------')\n",
    "scaledSpeciesSVMModel = gridModel.fit(scaledTrainDataX, trainDataY['Species'])\n",
    "\n",
    "scaledSpeciesBestParams = scaledSpeciesSVMModel.best_params_\n",
    "scaledSpeciesBestC = scaledSpeciesBestParams['estimator__C']\n",
    "scaledSpeciesBestC = round(scaledSpeciesBestC, 3)\n",
    "scaledSpeciesBestGamma = scaledSpeciesBestParams['estimator__gamma']\n",
    "scaledSpeciesBestGamma = round(scaledSpeciesBestGamma, 3)\n",
    "scaledSpeciesBestWidth = round(1/np.sqrt(2*scaledSpeciesBestGamma), 3)\n",
    "print('Best SVM Penalty:', scaledSpeciesBestC)\n",
    "print('Best Width of Gaussian Kernel:', scaledSpeciesBestWidth)\n",
    "\n",
    "scaledPredictedTestSpecies = scaledSpeciesSVMModel.predict(scaledTestDataX)\n",
    "scaledExactSpeciesScore = accuracy_score(scaledPredictedTestSpecies, testDataY['Species'])\n",
    "scaledExactSpeciesLoss = round(1-scaledExactSpeciesScore, 3)\n",
    "\n",
    "scaledSpeciesHammingLoss = hamming_loss(scaledPredictedTestSpecies, testDataY['Species'])\n",
    "scaledSpeciesHammingLoss = round(scaledSpeciesHammingLoss, 3)\n",
    "\n",
    "print('Exact Match Loss:', scaledExactSpeciesLoss)\n",
    "print('Hamming Loss:', scaledSpeciesHammingLoss)"
   ]
  },
  {
   "cell_type": "code",
   "execution_count": 15,
   "id": "66b414e6",
   "metadata": {},
   "outputs": [
    {
     "name": "stdout",
     "output_type": "stream",
     "text": [
      "Average Exact Match Loss: 0.017\n",
      "Average Hamming Loss: 0.012\n"
     ]
    }
   ],
   "source": [
    "scaledSVMAvgHammingLoss = (scaledFamilyHammingLoss + scaledGenusHammingLoss + scaledSpeciesHammingLoss)/3\n",
    "scaledSVMAvgHammingLoss = round(scaledSVMAvgHammingLoss, 3)\n",
    "\n",
    "cnt = 0\n",
    "for i in range(0, len(testDataY)):\n",
    "    if (testDataY['Family'].ravel()[i]==scaledPredictedTestFamily[i] and \n",
    "        testDataY['Genus'].ravel()[i]==scaledPredictedTestGenus[i] and \n",
    "        testDataY['Species'].ravel()[i]==scaledPredictedTestSpecies[i]):\n",
    "        cnt += 1\n",
    "scaledSVMAvgExactScore = float(cnt)/len(testDataY)\n",
    "scaledSVMAvgExactLoss = round(1-scaledSVMAvgExactScore, 3)\n",
    "\n",
    "print('Average Exact Match Loss:', scaledSVMAvgExactLoss)\n",
    "print('Average Hamming Loss:', scaledSVMAvgHammingLoss)"
   ]
  },
  {
   "cell_type": "markdown",
   "id": "52c89b42",
   "metadata": {},
   "source": [
    "# L1-Penalized SVM for each label."
   ]
  },
  {
   "cell_type": "code",
   "execution_count": 16,
   "id": "d6f808a3",
   "metadata": {},
   "outputs": [],
   "source": [
    "l1SVMModel = LinearSVC(penalty='l1', dual=False)\n",
    "l1Parameters = {'C':CRange}\n",
    "l1GridModel = GridSearchCV(l1SVMModel, l1Parameters, cv=KFold(10))"
   ]
  },
  {
   "cell_type": "code",
   "execution_count": 17,
   "id": "b1bb60a4",
   "metadata": {},
   "outputs": [
    {
     "name": "stdout",
     "output_type": "stream",
     "text": [
      "Label: Family\n",
      "---------------------------------------\n",
      "Best SVM Penalty: 2.069\n",
      "Exact Match Loss: 0.064\n",
      "Hamming Loss: 0.064\n"
     ]
    }
   ],
   "source": [
    "print('Label: Family')\n",
    "print('---------------------------------------')\n",
    "familyL1SVMModel = l1GridModel.fit(trainDataX, trainDataY['Family'])\n",
    "\n",
    "familyL1BestParams = familyL1SVMModel.best_params_\n",
    "familyL1BestC = familyL1BestParams['C']\n",
    "familyL1BestC = round(familyL1BestC, 3)\n",
    "print('Best SVM Penalty:', familyL1BestC)\n",
    "\n",
    "L1PredictedTestFamily = familyL1SVMModel.predict(testDataX)\n",
    "L1ExactFamilyScore = accuracy_score(L1PredictedTestFamily, testDataY['Family'])\n",
    "L1ExactFamilyLoss = round(1-L1ExactFamilyScore, 3)\n",
    "\n",
    "L1FamilyHammingLoss = hamming_loss(L1PredictedTestFamily, testDataY['Family'])\n",
    "L1FamilyHammingLoss = round(L1FamilyHammingLoss, 3)\n",
    "\n",
    "print('Exact Match Loss:', L1ExactFamilyLoss)\n",
    "print('Hamming Loss:', L1FamilyHammingLoss)"
   ]
  },
  {
   "cell_type": "code",
   "execution_count": 18,
   "id": "74e61858",
   "metadata": {},
   "outputs": [
    {
     "name": "stdout",
     "output_type": "stream",
     "text": [
      "Label: Genus\n",
      "---------------------------------------\n",
      "Best SVM Penalty: 1623.777\n",
      "Exact Match Loss: 0.049\n",
      "Hamming Loss: 0.049\n"
     ]
    }
   ],
   "source": [
    "print('Label: Genus')\n",
    "print('---------------------------------------')\n",
    "genusL1SVMModel = l1GridModel.fit(trainDataX, trainDataY['Genus'])\n",
    "\n",
    "genusL1BestParams = genusL1SVMModel.best_params_\n",
    "genusL1BestC = genusL1BestParams['C']\n",
    "genusL1BestC = round(genusL1BestC, 3)\n",
    "print('Best SVM Penalty:', genusL1BestC)\n",
    "\n",
    "L1PredictedTestGenus = genusL1SVMModel.predict(testDataX)\n",
    "L1ExactGenusScore = accuracy_score(L1PredictedTestGenus, testDataY['Genus'])\n",
    "L1ExactGenusLoss = round(1-L1ExactGenusScore, 3)\n",
    "\n",
    "L1GenusHammingLoss = hamming_loss(L1PredictedTestGenus, testDataY['Genus'])\n",
    "L1GenusHammingLoss = round(L1GenusHammingLoss, 3)\n",
    "\n",
    "print('Exact Match Loss:', L1ExactGenusLoss)\n",
    "print('Hamming Loss:', L1GenusHammingLoss)"
   ]
  },
  {
   "cell_type": "code",
   "execution_count": 19,
   "id": "e2f67134",
   "metadata": {},
   "outputs": [
    {
     "name": "stdout",
     "output_type": "stream",
     "text": [
      "Label: Species\n",
      "---------------------------------------\n",
      "Best SVM Penalty: 12.743\n",
      "Exact Match Loss: 0.041\n",
      "Hamming Loss: 0.041\n"
     ]
    }
   ],
   "source": [
    "print('Label: Species')\n",
    "print('---------------------------------------')\n",
    "speciesL1SVMModel = l1GridModel.fit(trainDataX, trainDataY['Species'])\n",
    "\n",
    "speciesL1BestParams = speciesL1SVMModel.best_params_\n",
    "speciesL1BestC = speciesL1BestParams['C']\n",
    "speciesL1BestC = round(speciesL1BestC, 3)\n",
    "print('Best SVM Penalty:', speciesL1BestC)\n",
    "\n",
    "L1PredictedTestSpecies = speciesL1SVMModel.predict(testDataX)\n",
    "L1ExactSpeciesScore = accuracy_score(L1PredictedTestSpecies, testDataY['Species'])\n",
    "L1ExactSpeciesLoss = round(1-L1ExactSpeciesScore, 3)\n",
    "\n",
    "L1SpeciesHammingLoss = hamming_loss(L1PredictedTestSpecies, testDataY['Species'])\n",
    "L1SpeciesHammingLoss = round(L1SpeciesHammingLoss, 3)\n",
    "\n",
    "print('Exact Match Loss:', L1ExactSpeciesLoss)\n",
    "print('Hamming Loss:', L1SpeciesHammingLoss)"
   ]
  },
  {
   "cell_type": "code",
   "execution_count": 20,
   "id": "c5076c3d",
   "metadata": {},
   "outputs": [
    {
     "name": "stdout",
     "output_type": "stream",
     "text": [
      "Average Exact Match Loss: 0.084\n",
      "Average Hamming Loss: 0.051\n"
     ]
    }
   ],
   "source": [
    "L1AvgHammingLoss = (L1FamilyHammingLoss + L1GenusHammingLoss + L1SpeciesHammingLoss)/3\n",
    "L1AvgHammingLoss = round(L1AvgHammingLoss, 3)\n",
    "\n",
    "cnt = 0\n",
    "for i in range(0, len(testDataY)):\n",
    "    if (testDataY['Family'].ravel()[i]==L1PredictedTestFamily[i] and \n",
    "        testDataY['Genus'].ravel()[i]==L1PredictedTestGenus[i] and \n",
    "        testDataY['Species'].ravel()[i]==L1PredictedTestSpecies[i]):\n",
    "        cnt += 1\n",
    "L1AvgExactScore = float(cnt)/len(testDataY)\n",
    "L1AvgExactLoss = round(1-L1AvgExactScore, 3)\n",
    "\n",
    "print('Average Exact Match Loss:', L1AvgExactLoss)\n",
    "print('Average Hamming Loss:', L1AvgHammingLoss)"
   ]
  },
  {
   "cell_type": "markdown",
   "id": "1117137b",
   "metadata": {},
   "source": [
    "# L1-penalized SVM with SMOTE for class imbalance."
   ]
  },
  {
   "cell_type": "code",
   "execution_count": 21,
   "id": "c3346d24",
   "metadata": {},
   "outputs": [
    {
     "ename": "AttributeError",
     "evalue": "'SMOTE' object has no attribute 'fit_sample'",
     "output_type": "error",
     "traceback": [
      "\u001b[0;31m---------------------------------------------------------------------------\u001b[0m",
      "\u001b[0;31mAttributeError\u001b[0m                            Traceback (most recent call last)",
      "Cell \u001b[0;32mIn[21], line 2\u001b[0m\n\u001b[1;32m      1\u001b[0m smote \u001b[38;5;241m=\u001b[39m SMOTE()\n\u001b[0;32m----> 2\u001b[0m familyTrainDataX, familyTrainDataY \u001b[38;5;241m=\u001b[39m \u001b[43msmote\u001b[49m\u001b[38;5;241;43m.\u001b[39;49m\u001b[43mfit_sample\u001b[49m(trainDataX, trainDataY[\u001b[38;5;124m'\u001b[39m\u001b[38;5;124mFamily\u001b[39m\u001b[38;5;124m'\u001b[39m])\n\u001b[1;32m      3\u001b[0m genusTrainDataX, genusTrainDataY \u001b[38;5;241m=\u001b[39m smote\u001b[38;5;241m.\u001b[39mfit_sample(trainDataX, trainDataY[\u001b[38;5;124m'\u001b[39m\u001b[38;5;124mGenus\u001b[39m\u001b[38;5;124m'\u001b[39m])\n\u001b[1;32m      4\u001b[0m speciesTrainDataX, speciesTrainDataY \u001b[38;5;241m=\u001b[39m smote\u001b[38;5;241m.\u001b[39mfit_sample(trainDataX, trainDataY[\u001b[38;5;124m'\u001b[39m\u001b[38;5;124mSpecies\u001b[39m\u001b[38;5;124m'\u001b[39m])\n",
      "\u001b[0;31mAttributeError\u001b[0m: 'SMOTE' object has no attribute 'fit_sample'"
     ]
    }
   ],
   "source": [
    "smote = SMOTE()\n",
    "familyTrainDataX, familyTrainDataY = smote.fit_sample(trainDataX, trainDataY['Family'])\n",
    "genusTrainDataX, genusTrainDataY = smote.fit_sample(trainDataX, trainDataY['Genus'])\n",
    "speciesTrainDataX, speciesTrainDataY = smote.fit_sample(trainDataX, trainDataY['Species'])\n",
    "\n",
    "print('---------------------------------------------------------')\n",
    "print('Before over-sampling, number of training samples:', trainDataX.shape[0])\n",
    "print('---------------------------------------------------------')\n",
    "print('After over-sampling, number of training samples:', familyTrainDataX.shape[0])"
   ]
  },
  {
   "cell_type": "code",
   "execution_count": null,
   "id": "62b2c5c2",
   "metadata": {},
   "outputs": [],
   "source": [
    "l1SmoteSVMModel = LinearSVC(penalty='l1', dual=False)\n",
    "l1SmoteParameters = {'C':CRange}\n",
    "l1SmoteGridModel = GridSearchCV(l1SmoteSVMModel, l1SmoteParameters, cv=KFold(10))"
   ]
  },
  {
   "cell_type": "code",
   "execution_count": null,
   "id": "d103d702",
   "metadata": {},
   "outputs": [],
   "source": [
    "print('Label: Family')\n",
    "print('---------------------------------------')\n",
    "familyL1SmoteSVMModel = l1SmoteGridModel.fit(familyTrainDataX, familyTrainDataY)\n",
    "\n",
    "familyL1SmoteBestParams = familyL1SmoteSVMModel.best_params_\n",
    "familyL1SmoteBestC = familyL1SmoteBestParams['C']\n",
    "familyL1SmoteBestC = round(familyL1SmoteBestC, 3)\n",
    "print('Best SVM Penalty:', familyL1SmoteBestC)\n",
    "\n",
    "L1SmotePredictedTestFamily = familyL1SmoteSVMModel.predict(testDataX)\n",
    "L1SmoteExactFamilyScore = accuracy_score(L1SmotePredictedTestFamily, testDataY['Family'])\n",
    "L1SmoteExactFamilyLoss = round(1-L1SmoteExactFamilyScore, 3)\n",
    "\n",
    "L1SmoteFamilyHammingLoss = hamming_loss(L1SmotePredictedTestFamily, testDataY['Family'])\n",
    "L1SmoteFamilyHammingLoss = round(L1SmoteFamilyHammingLoss, 3)\n",
    "\n",
    "print('Exact Match Loss:', L1SmoteExactFamilyLoss)\n",
    "print('Hamming Loss:', L1SmoteFamilyHammingLoss)"
   ]
  },
  {
   "cell_type": "code",
   "execution_count": null,
   "id": "cf1db0ef",
   "metadata": {},
   "outputs": [],
   "source": [
    "print('Label: Genus')\n",
    "print('---------------------------------------')\n",
    "genusL1SmoteSVMModel = l1SmoteGridModel.fit(genusTrainDataX, genusTrainDataY)\n",
    "\n",
    "genusL1SmoteBestParams = genusL1SmoteSVMModel.best_params_\n",
    "genusL1SmoteBestC = genusL1SmoteBestParams['C']\n",
    "genusL1SmoteBestC = round(genusL1SmoteBestC, 3)\n",
    "print('Best SVM Penalty:', genusL1SmoteBestC)\n",
    "\n",
    "L1SmotePredictedTestGenus = genusL1SmoteSVMModel.predict(testDataX)\n",
    "L1SmoteExactGenusScore = accuracy_score(L1SmotePredictedTestGenus, testDataY['Genus'])\n",
    "L1SmoteExactGenusLoss = round(1-L1SmoteExactGenusScore, 3)\n",
    "\n",
    "L1SmoteGenusHammingLoss = hamming_loss(L1SmotePredictedTestGenus, testDataY['Genus'])\n",
    "L1SmoteGenusHammingLoss = round(L1SmoteGenusHammingLoss, 3)\n",
    "\n",
    "print('Exact Match Loss:', L1SmoteExactGenusLoss)\n",
    "print('Hamming Loss:', L1SmoteGenusHammingLoss)"
   ]
  },
  {
   "cell_type": "code",
   "execution_count": null,
   "id": "bc4cb068",
   "metadata": {},
   "outputs": [],
   "source": [
    "print('Label: Species')\n",
    "print('---------------------------------------')\n",
    "speciesL1SmoteSVMModel = l1SmoteGridModel.fit(speciesTrainDataX, speciesTrainDataY)\n",
    "\n",
    "speciesL1SmoteBestParams = speciesL1SmoteSVMModel.best_params_\n",
    "speciesL1SmoteBestC = speciesL1SmoteBestParams['C']\n",
    "speciesL1SmoteBestC = round(speciesL1SmoteBestC, 3)\n",
    "print('Best SVM Penalty:', speciesL1SmoteBestC)\n",
    "\n",
    "L1SmotePredictedTestSpecies = speciesL1SmoteSVMModel.predict(testDataX)\n",
    "L1SmoteExactSpeciesScore = accuracy_score(L1SmotePredictedTestSpecies, testDataY['Species'])\n",
    "L1SmoteExactSpeciesLoss = round(1-L1SmoteExactSpeciesScore, 3)\n",
    "\n",
    "L1SmoteSpeciesHammingLoss = hamming_loss(L1SmotePredictedTestSpecies, testDataY['Species'])\n",
    "L1SmoteSpeciesHammingLoss = round(L1SmoteSpeciesHammingLoss, 3)\n",
    "\n",
    "print('Exact Match Loss:', L1SmoteExactSpeciesLoss)\n",
    "print('Hamming Loss:', L1SmoteSpeciesHammingLoss)"
   ]
  },
  {
   "cell_type": "code",
   "execution_count": null,
   "id": "b0be141d",
   "metadata": {},
   "outputs": [],
   "source": [
    "L1SmoteAvgHammingLoss = (L1SmoteFamilyHammingLoss + L1SmoteGenusHammingLoss + L1SmoteSpeciesHammingLoss)/3\n",
    "L1SmoteAvgHammingLoss = round(L1SmoteAvgHammingLoss, 3)\n",
    "\n",
    "cnt = 0\n",
    "for i in range(0, len(testDataY)):\n",
    "    if (testDataY['Family'].ravel()[i]==L1SmotePredictedTestFamily[i] and \n",
    "        testDataY['Genus'].ravel()[i]==L1SmotePredictedTestGenus[i] and \n",
    "        testDataY['Species'].ravel()[i]==L1SmotePredictedTestSpecies[i]):\n",
    "        cnt += 1\n",
    "L1SmoteAvgExactScore = float(cnt)/len(testDataY)\n",
    "L1SmoteAvgExactLoss = round(1-L1SmoteAvgExactScore, 3)\n",
    "\n",
    "print('Average Exact Match Loss:', L1SmoteAvgExactLoss)\n",
    "print('Average Hamming Loss:', L1SmoteAvgHammingLoss)"
   ]
  },
  {
   "cell_type": "code",
   "execution_count": null,
   "id": "97a92307",
   "metadata": {},
   "outputs": [],
   "source": [
    "tableData = []\n",
    "row = []\n",
    "row.append('Gaussian Kernel SVM')\n",
    "row.append(svmAvgExactLoss)\n",
    "row.append(svmAvgHammingLoss)\n",
    "tableData.append(row)\n",
    "row = []\n",
    "row.append('Gaussian Kernel SVM (Standardized Features)')\n",
    "row.append(scaledSVMAvgExactLoss)\n",
    "row.append(scaledSVMAvgHammingLoss)\n",
    "tableData.append(row)\n",
    "row = []\n",
    "row.append('L1-Penalized SVM')\n",
    "row.append(L1AvgExactLoss)\n",
    "row.append(L1AvgHammingLoss)\n",
    "tableData.append(row)\n",
    "row = []\n",
    "row.append('L1-Penalized SVM with SMOTE')\n",
    "row.append(L1SmoteAvgExactLoss)\n",
    "row.append(L1SmoteAvgHammingLoss)\n",
    "tableData.append(row)\n",
    "tableHeaders = ['Model', 'Exact Match Loss', 'Hamming Loss']\n",
    "printDatainTable(tableHeaders, tableData)"
   ]
  },
  {
   "cell_type": "markdown",
   "id": "da83470e",
   "metadata": {},
   "source": [
    "### Gaussian Kernel SVM\n",
    "Average Exact Match Loss is higher than Average Hamming Loss for Gaussian Kernel SVM."
   ]
  },
  {
   "cell_type": "markdown",
   "id": "deb872f1",
   "metadata": {},
   "source": [
    "### L1-Penalized SVM\n",
    "In L1-Penalized SVM, the Average Exact Match Loss and Average Hamming Loss have increased as compared to Gaussian Kernel SVM.\n"
   ]
  },
  {
   "cell_type": "markdown",
   "id": "6687e3b8",
   "metadata": {},
   "source": [
    "### L1-Penalized SVM with SMOTE\n",
    "There is a significant reduction in Average Exact Match Loss for L1-Penalized SVM after balancing the classes using SMOTE.\n"
   ]
  },
  {
   "cell_type": "markdown",
   "id": "a6141e93",
   "metadata": {},
   "source": [
    "### Conclusion\n",
    "Comparing all the three models based on Average Exact Match Loss and Average Hamming Loss, we can conclude that Gaussian Kernel SVM is performing the best.\n"
   ]
  },
  {
   "cell_type": "markdown",
   "id": "e7fa182f",
   "metadata": {},
   "source": [
    "# Determine optimal K for K-Means Clustering."
   ]
  },
  {
   "cell_type": "code",
   "execution_count": null,
   "id": "1980620e",
   "metadata": {},
   "outputs": [],
   "source": [
    "iterativeBestCluster = {}\n",
    "for iteration in range(1, 51):\n",
    "    silhouetteScoreDict = {}\n",
    "    for k in range(2, 51):\n",
    "        kMeansModel = KMeans(n_clusters=k)\n",
    "        kMeansModel = kMeansModel.fit(dataX)\n",
    "        clusterIndex = kMeansModel.labels_\n",
    "        silhouetteScore = silhouette_score(dataX, clusterIndex)\n",
    "        silhouetteScoreDict[k] = silhouetteScore\n",
    "\n",
    "    sortedScores = sorted(silhouetteScoreDict.items(), key=operator.itemgetter(1), reverse=True)\n",
    "    bestCluster = sortedScores[0][0]\n",
    "    iterativeBestCluster[iteration] = bestCluster\n",
    "print('---------------------------------------------')\n",
    "print('Optimal Number of Clusters for 50 Iterations:')\n",
    "print('---------------------------------------------')\n",
    "tableData = []\n",
    "for iteration in range(1, 51):\n",
    "    row = []\n",
    "    row.append('Iteration ' + str(iteration))\n",
    "    row.append(iterativeBestCluster[iteration])\n",
    "    tableData.append(row)\n",
    "tableHeaders = ['Iteration', 'Optimal Number of Clusters']\n",
    "printDatainTable(tableHeaders, tableData)"
   ]
  },
  {
   "cell_type": "code",
   "execution_count": null,
   "id": "dfdc7851",
   "metadata": {},
   "outputs": [],
   "source": [
    "iterationClusterIndex = {}\n",
    "for iteration in range(1, 51):\n",
    "    finalKMeansModel = KMeans(n_clusters=bestCluster)\n",
    "    finalKMeansModel = finalKMeansModel.fit(dataX)\n",
    "    clusterIndex = finalKMeansModel.labels_\n",
    "    iterationClusterIndex[iteration] = clusterIndex"
   ]
  },
  {
   "cell_type": "markdown",
   "id": "b7b6f9f1",
   "metadata": {},
   "source": [
    "# For each cluster, determine its family, genus and species. "
   ]
  },
  {
   "cell_type": "code",
   "execution_count": null,
   "id": "858fa8e7",
   "metadata": {},
   "outputs": [],
   "source": [
    "tableData = []\n",
    "for iteration in range(1, 51):\n",
    "    bestCluster = iterativeBestCluster[iteration]\n",
    "    clusterIndex = iterationClusterIndex[iteration]\n",
    "    clusterLabel = []\n",
    "    for i in range(0, bestCluster):\n",
    "        family = {}\n",
    "        genus = {}\n",
    "        species = {}\n",
    "        for j in range(0, len(dataY)):\n",
    "            if clusterIndex[j]==i:\n",
    "                familyClass = dataY['Family'][j]\n",
    "                if familyClass in family.keys():\n",
    "                    family[familyClass] += 1\n",
    "                else:\n",
    "                    family[familyClass] = 1\n",
    "\n",
    "                genusClass = dataY['Genus'][j]\n",
    "                if genusClass in genus.keys():\n",
    "                    genus[genusClass] += 1\n",
    "                else:\n",
    "                    genus[genusClass] = 1\n",
    "\n",
    "                speciesClass = dataY['Species'][j]\n",
    "                if speciesClass in species.keys():\n",
    "                    species[speciesClass] += 1\n",
    "                else:\n",
    "                    species[speciesClass] = 1\n",
    "\n",
    "        sortedFamily = sorted(family.items(), key=operator.itemgetter(1), reverse=True)\n",
    "        sortedGenus = sorted(genus.items(), key=operator.itemgetter(1), reverse=True)\n",
    "        sortedSpecies = sorted(species.items(), key=operator.itemgetter(1), reverse=True)\n",
    "\n",
    "        familyLabel = sortedFamily[0][0]\n",
    "        genusLabel = sortedGenus[0][0]\n",
    "        speciesLabel = sortedSpecies[0][0]\n",
    "\n",
    "        label = {}\n",
    "        label['Family'] = familyLabel\n",
    "        label['Genus'] = genusLabel\n",
    "        label['Species'] = speciesLabel\n",
    "        clusterLabel.append(label)\n",
    "  \n",
    "    for i in range(0, bestCluster):\n",
    "        row = []\n",
    "        row.append('Iteration ' + str(iteration))\n",
    "        row.append('Cluster ' + str(i+1))\n",
    "        row.append(clusterLabel[i]['Family'])\n",
    "        row.append(clusterLabel[i]['Genus'])\n",
    "        row.append(clusterLabel[i]['Species'])\n",
    "        tableData.append(row)\n",
    "    \n",
    "print('----------------------------------------------------')\n",
    "print('Cluster Labels for each cluster in 50 Iterations:')\n",
    "print('----------------------------------------------------')\n",
    "tableHeaders = ['Iteration', 'Cluster Name', 'Family Label', 'Genus Label', 'Species Label']\n",
    "printDatainTable(tableHeaders, tableData)"
   ]
  },
  {
   "cell_type": "markdown",
   "id": "24a676e9",
   "metadata": {},
   "source": [
    "# Calculate average Hamming Score and Hamming Loss."
   ]
  },
  {
   "cell_type": "code",
   "execution_count": null,
   "id": "1d3798e2",
   "metadata": {},
   "outputs": [],
   "source": [
    "avgHammingLoss = []\n",
    "avgHammingScore = []\n",
    "for iteration in range(1, 51):\n",
    "    clusterIndex = iterationClusterIndex[iteration]\n",
    "    predictedFamilyY = []\n",
    "    predictedGenusY = []\n",
    "    predictedSpeciesY = []\n",
    "    for i in range(0, len(dataX)):\n",
    "        clusterName = clusterIndex[i]\n",
    "        label = clusterLabel[clusterName]\n",
    "        predFamilyLabel = label['Family']\n",
    "        predGenusLabel = label['Genus']\n",
    "        predSpeciesLabel = label['Species']\n",
    "\n",
    "        predictedFamilyY.append(predFamilyLabel)\n",
    "        predictedGenusY.append(predGenusLabel)\n",
    "        predictedSpeciesY.append(predSpeciesLabel)\n",
    "\n",
    "    actualFamilyLabel = np.array(dataY['Family'])\n",
    "    actualGenusLabel = np.array(dataY['Genus'])\n",
    "    actualSpeciesLabel = np.array(dataY['Species'])\n",
    "\n",
    "    predictedFamilyY = np.array(predictedFamilyY)\n",
    "    predictedGenusY = np.array(predictedGenusY)\n",
    "    predictedSpeciesY = np.array(predictedSpeciesY)\n",
    "\n",
    "    familyHammingLoss = hamming_loss(predictedFamilyY, actualFamilyLabel)\n",
    "    familyHammingLoss = round(familyHammingLoss, 3)\n",
    "    familyHammingScore = accuracy_score(predictedFamilyY, actualFamilyLabel)\n",
    "    familyHammingScore = round(familyHammingScore, 3)\n",
    "\n",
    "    genusHammingLoss = hamming_loss(predictedGenusY, actualGenusLabel)\n",
    "    genusHammingLoss = round(genusHammingLoss, 3)\n",
    "    genusHammingScore = accuracy_score(predictedGenusY, actualGenusLabel)\n",
    "    genusHammingScore = round(genusHammingScore, 3)\n",
    "\n",
    "    speciesHammingLoss = hamming_loss(predictedSpeciesY, actualSpeciesLabel)\n",
    "    speciesHammingLoss = round(speciesHammingLoss, 3)\n",
    "    speciesHammingScore = accuracy_score(predictedSpeciesY, actualSpeciesLabel)\n",
    "    speciesHammingScore = round(speciesHammingScore, 3)\n",
    "    \n",
    "    avgHammingLossIteration = (familyHammingLoss + genusHammingLoss + speciesHammingLoss)/3\n",
    "    avgHammingLossIteration = round(avgHammingLossIteration, 3)\n",
    "    avgHammingScoreIteration = (familyHammingScore + genusHammingScore + speciesHammingScore)/3\n",
    "    avgHammingScoreIteration = round(avgHammingScoreIteration, 3)\n",
    "    \n",
    "    avgHammingLoss.append(avgHammingLossIteration)\n",
    "    avgHammingScore.append(avgHammingScoreIteration)\n",
    "\n",
    "tableData = []\n",
    "for iteration in range(1, 51):\n",
    "    row = []\n",
    "    row.append('Iteration ' + str(iteration))\n",
    "    row.append(avgHammingLoss[iteration-1])\n",
    "    row.append(avgHammingScore[iteration-1])\n",
    "    tableData.append(row)\n",
    "print('----------------------------------------------------------------')\n",
    "print('Hamming Loss/Hamming Distance & Hamming Score for 50 Iterations:')\n",
    "print('----------------------------------------------------------------')\n",
    "tableHeaders = ['Iteration', 'Hamming Loss/Hamming Distance', 'Hamming Score']\n",
    "printDatainTable(tableHeaders, tableData)"
   ]
  },
  {
   "cell_type": "code",
   "execution_count": null,
   "id": "cbffabab",
   "metadata": {},
   "outputs": [],
   "source": [
    "meanHammingLoss = statistics.mean(avgHammingLoss)\n",
    "meanHammingLoss = round(meanHammingLoss, 3)\n",
    "\n",
    "stdHammingLoss = statistics.stdev(avgHammingLoss)\n",
    "stdHammingLoss = round(stdHammingLoss, 3)\n",
    "\n",
    "meanHammingScore = statistics.mean(avgHammingScore)\n",
    "meanHammingScore = round(meanHammingScore, 3)\n",
    "\n",
    "stdHammingScore = statistics.stdev(avgHammingScore)\n",
    "stdHammingScore = round(stdHammingScore, 3)\n",
    "\n",
    "print('---------------------------------------------------------------------')\n",
    "print('Average & Standard Deviation for 50 Iterations:')\n",
    "print('---------------------------------------------------------------------')\n",
    "tableData = []\n",
    "row = []\n",
    "row.append('Average')\n",
    "row.append(meanHammingLoss)\n",
    "row.append(meanHammingScore)\n",
    "tableData.append(row)\n",
    "row = []\n",
    "row.append('Standard Deviation')\n",
    "row.append(stdHammingLoss)\n",
    "row.append(stdHammingScore)\n",
    "tableData.append(row)\n",
    "tableHeaders = ['Measure', 'Hamming Loss/Hamming Distance', 'Hamming Score']\n",
    "printDatainTable(tableHeaders, tableData) "
   ]
  },
  {
   "cell_type": "code",
   "execution_count": null,
   "id": "9c053c82",
   "metadata": {},
   "outputs": [],
   "source": []
  },
  {
   "cell_type": "code",
   "execution_count": null,
   "id": "a91b986c",
   "metadata": {},
   "outputs": [],
   "source": []
  },
  {
   "cell_type": "code",
   "execution_count": null,
   "id": "f8561fee",
   "metadata": {},
   "outputs": [],
   "source": []
  },
  {
   "cell_type": "code",
   "execution_count": null,
   "id": "be3f8cb9",
   "metadata": {},
   "outputs": [],
   "source": []
  },
  {
   "cell_type": "code",
   "execution_count": null,
   "id": "e97bde79",
   "metadata": {},
   "outputs": [],
   "source": []
  }
 ],
 "metadata": {
  "kernelspec": {
   "display_name": "Python 3 (ipykernel)",
   "language": "python",
   "name": "python3"
  },
  "language_info": {
   "codemirror_mode": {
    "name": "ipython",
    "version": 3
   },
   "file_extension": ".py",
   "mimetype": "text/x-python",
   "name": "python",
   "nbconvert_exporter": "python",
   "pygments_lexer": "ipython3",
   "version": "3.9.11"
  }
 },
 "nbformat": 4,
 "nbformat_minor": 5
}
